{
  "nbformat": 4,
  "nbformat_minor": 0,
  "metadata": {
    "colab": {
      "provenance": [],
      "include_colab_link": true
    },
    "kernelspec": {
      "name": "python3",
      "display_name": "Python 3"
    },
    "language_info": {
      "name": "python"
    }
  },
  "cells": [
    {
      "cell_type": "markdown",
      "metadata": {
        "id": "view-in-github",
        "colab_type": "text"
      },
      "source": [
        "<a href=\"https://colab.research.google.com/github/smomtahe/Regression/blob/main/Degree.ipynb\" target=\"_parent\"><img src=\"https://colab.research.google.com/assets/colab-badge.svg\" alt=\"Open In Colab\"/></a>"
      ]
    },
    {
      "cell_type": "code",
      "metadata": {
        "id": "2cNQXsrHK8W_"
      },
      "source": [
        "#importing the lobraries\n",
        "import numpy as np\n",
        "import pandas as pd\n",
        "import tensorflow as tf\n",
        "# for plotting\n",
        "import matplotlib\n",
        "import matplotlib.pyplot as plt\n",
        "from matplotlib import pyplot\n",
        "\n",
        "%matplotlib inline\n",
        "from io import StringIO\n",
        "import matplotlib.colors\n",
        "from mpl_toolkits.mplot3d import Axes3D\n",
        "#libraries for analytical model\n",
        "from numpy import array\n",
        "from numpy.linalg import inv\n",
        "from numpy.linalg import qr\n",
        "#libraries for selecting the best degree\n",
        "from sklearn.preprocessing import PolynomialFeatures\n",
        "from sklearn.metrics import mean_squared_error\n",
        "from sklearn.model_selection import train_test_split\n",
        "#klearn.datasets is used to generate synthetic datasets for regressoion\n",
        "import sklearn.datasets as dt\n",
        "# for generating data from a dataset\n",
        "from sklearn.neighbors import KernelDensity\n",
        "from sklearn.model_selection import GridSearchCV\n",
        "#import plotly_express as px\n",
        "#plot surface\n",
        "import os\n",
        "from mpl_toolkits import mplot3d\n",
        "import plotly.graph_objects as go\n",
        "from plotly.offline import download_plotlyjs, init_notebook_mode\n",
        "from plotly.offline import plot, iplot\n",
        "from mpl_toolkits.mplot3d import Axes3D\n",
        "\n",
        "data = pd.read_csv(\"https://raw.githubusercontent.com/smomtahe/heightweight/main/heightweight.csv\")\n"
      ],
      "execution_count": null,
      "outputs": []
    },
    {
      "cell_type": "markdown",
      "metadata": {
        "id": "fmFWjLvxLUYz"
      },
      "source": [
        "**Question1**\n",
        "Generating synthetic data according to a polynomical function and add noise to the function to generate a scatter of N=20 points  "
      ]
    },
    {
      "cell_type": "code",
      "metadata": {
        "colab": {
          "base_uri": "https://localhost:8080/",
          "height": 265
        },
        "id": "QQND12CZLTwy",
        "outputId": "70cf7797-de55-4ba4-a3ef-7059aa255fe2"
      },
      "source": [
        "#Creating the dataset\n",
        "x = np.linspace(0,1,20)\n",
        "noise = 1*np.random.uniform(size = 20)\n",
        "y = 1*x + 2 * (x ** 2) + np.random.normal(-1, 1, 20)  #random noise #degree 2 polynomial\n",
        "\n",
        "plt.scatter(x,y, s=30) #scatter of 20 points with size 30\n",
        "y_noise = (y + noise).reshape(-1,1)"
      ],
      "execution_count": null,
      "outputs": [
        {
          "output_type": "display_data",
          "data": {
            "image/png": "[encoded data removed]",
            "text/plain": [
              "<Figure size 432x288 with 1 Axes>"
            ]
          },
          "metadata": {
            "tags": [],
            "needs_background": "light"
          }
        }
      ]
    },
    {
      "cell_type": "markdown",
      "metadata": {
        "id": "E4ciVuYePHN3"
      },
      "source": [
        "Analytical method (Norman Equation):\n",
        "Calculate the cost  Jtrain(θ)=Jtrain(w,b)  over these two parameters by scanning over a range of values for both parameters. Plot the cost function landscape as a surface plot."
      ]
    },
    {
      "cell_type": "code",
      "metadata": {
        "colab": {
          "base_uri": "https://localhost:8080/",
          "height": 265
        },
        "id": "50XGg21KPJsI",
        "outputId": "aad401e0-7529-486a-d347-67ea5915ad5a"
      },
      "source": [
        "# creating data\n",
        "mean = np.array([5.0, 6.0])\n",
        "cov = np.array([[1.0, 0.95], [0.95, 1.2]])\n",
        "data = np.random.multivariate_normal(mean, cov, 20)\n",
        "\n",
        "# visualising data\n",
        "plt.scatter(data[:10, 0], data[:10, 1], marker = '.')\n",
        "plt.show()\n",
        "\n",
        "# train-test-split\n",
        "data = np.hstack((np.ones((data.shape[0], 1)), data))\n",
        "\n",
        "split_factor = 0.5\n",
        "split = int(split_factor * data.shape[0])\n",
        "\n",
        "#X = data[:, :-1]\n",
        "#y = data[:, -1].reshape((-1, 1))\n",
        "\n",
        "x_train = data[:split, :-1]\n",
        "y_train = data[:split, -1].reshape((-1, 1))\n",
        "x_test = data[split:, :-1]\n",
        "y_test = data[split:, -1].reshape((-1, 1))"
      ],
      "execution_count": null,
      "outputs": [
        {
          "output_type": "display_data",
          "data": {
            "image/png": "[encoded data removed]",
            "text/plain": [
              "<Figure size 432x288 with 1 Axes>"
            ]
          },
          "metadata": {
            "tags": [],
            "needs_background": "light"
          }
        }
      ]
    },
    {
      "cell_type": "code",
      "metadata": {
        "colab": {
          "base_uri": "https://localhost:8080/",
          "height": 312
        },
        "id": "eo4Gcp3JP13C",
        "outputId": "df70e21e-af86-4a59-fc31-0b210cc75989"
      },
      "source": [
        "\n",
        "#x_train, x_test, y_train, y_test = train_test_split(x, y, test_size=0.5) # split data to train and test\n",
        "%matplotlib inline\n",
        "import matplotlib.pyplot as plt\n",
        "plt.plot(x, y, \"r.\")\n",
        "plt.xlabel('x')\n",
        "plt.ylabel('y')\n",
        "plt.title('Fig.1')\n"
      ],
      "execution_count": null,
      "outputs": [
        {
          "output_type": "execute_result",
          "data": {
            "text/plain": [
              "Text(0.5, 1.0, 'Fig.1')"
            ]
          },
          "metadata": {
            "tags": []
          },
          "execution_count": 37
        },
        {
          "output_type": "display_data",
          "data": {
            "image/png": "[encoded data removed]",
            "text/plain": [
              "<Figure size 432x288 with 1 Axes>"
            ]
          },
          "metadata": {
            "tags": [],
            "needs_background": "light"
          }
        }
      ]
    },
    {
      "cell_type": "code",
      "metadata": {
        "id": "KrJszepvP7St"
      },
      "source": [
        "def get_best_param(x, y):\n",
        "    X_transpose = x.T\n",
        "    best_params = inv(X_transpose.dot( x)).dot(X_transpose).dot(y)  # normal equation  # theta_best = (X.T * X)^(-1) * X.T * y\n",
        "    return best_params # returns a list\n",
        "    print(best_params )\n",
        "#get_best_param(X, y)"
      ],
      "execution_count": null,
      "outputs": []
    },
    {
      "cell_type": "code",
      "metadata": {
        "colab": {
          "base_uri": "https://localhost:8080/"
        },
        "id": "xvjYpyZxQGbZ",
        "outputId": "26798833-4c02-4687-fb07-88793bc1af1a"
      },
      "source": [
        "X_b = np.c_[np.ones((20, 1)), x] # set bias term to 1 for each sample\n",
        "params = get_best_param(X_b, y)\n",
        "# Display normal equation's result\n",
        "print('Theta computed from the normal equations: \\n',params);"
      ],
      "execution_count": null,
      "outputs": [
        {
          "output_type": "stream",
          "text": [
            "Theta computed from the normal equations: \n",
            " [-1.75386696  3.39349179]\n"
          ],
          "name": "stdout"
        }
      ]
    },
    {
      "cell_type": "code",
      "metadata": {
        "colab": {
          "base_uri": "https://localhost:8080/",
          "height": 312
        },
        "id": "AZoFfqYqQI4b",
        "outputId": "d7b9a8a5-05d2-4f07-e2bb-3f963f8ffcd7"
      },
      "source": [
        "# test prediction\n",
        "test_X= np.array([[0], [2]])\n",
        "test_X_b = np.c_[np.ones((2, 1)), test_X]\n",
        "prediction = test_X_b.dot(params)\n",
        "print(prediction)\n",
        "plt.plot(test_X, prediction, \"r\")\n",
        "plt.plot(x, y, \"b.\")\n",
        "plt.xlabel('x')\n",
        "plt.ylabel('y')\n",
        "plt.title('Fig.1')\n",
        "plt.show()"
      ],
      "execution_count": null,
      "outputs": [
        {
          "output_type": "stream",
          "text": [
            "[-1.75386696  5.03311663]\n"
          ],
          "name": "stdout"
        },
        {
          "output_type": "display_data",
          "data": {
            "image/png": "[encoded data removed]",
            "text/plain": [
              "<Figure size 432x288 with 1 Axes>"
            ]
          },
          "metadata": {
            "tags": [],
            "needs_background": "light"
          }
        }
      ]
    },
    {
      "cell_type": "markdown",
      "metadata": {
        "id": "KKM2wh5EwwXT"
      },
      "source": [
        "Linear Regression and Best Degree"
      ]
    },
    {
      "cell_type": "code",
      "metadata": {
        "colab": {
          "base_uri": "https://localhost:8080/",
          "height": 574
        },
        "id": "Iw_MF_Clv_Lo",
        "outputId": "19414be9-ac78-4f4f-db0e-417f7af49b9c"
      },
      "source": [
        "## linear regression (the regression model fitted is the red straight line) ### in the next sections the best b and w are found by gradient descent method\n",
        "from sklearn.linear_model import LinearRegression # it gives the best line\n",
        "degrees = np.arange(1, 20) #select a degree between 1 to 10\n",
        "rmses = [] #error\n",
        "best_error=1e10 # variables for best (minimum) rmse\n",
        "best_degree =0  # variables for best (minimum) degree\n",
        "# Adding another axis by transforming the data\n",
        "x_p_train= x[:split, np.newaxis]\n",
        "y_p_train = y[:split, np.newaxis]\n",
        "x_p_test= x[split:, np.newaxis]\n",
        "y_p_test = y[split:, np.newaxis]\n",
        "#using the linear regression model\n",
        "for deg in degrees:\n",
        "    poly_features = PolynomialFeatures(degree=deg, include_bias=False)     # Train features\n",
        "    x_poly_train = poly_features.fit_transform(x_p_train)\n",
        "    poly_reg = LinearRegression()\n",
        "    poly_reg.fit(x_poly_train, y_p_train)\n",
        "    x_poly_test = poly_features.fit_transform(x_p_test) # compare with test data\n",
        "\n",
        "    poly_predict = poly_reg.predict(x_poly_train)\n",
        "    poly_err = mean_squared_error(y_p_test, poly_predict)\n",
        "    poly_error = np.sqrt(poly_err)\n",
        "    rmses.append(poly_error)\n",
        "    if best_error > poly_error: # Cross-validation of degree\n",
        "        best_error = poly_error\n",
        "        best_degree = deg\n",
        "plt.scatter(x_p_train, y_p_train, s=30)\n",
        "plt.plot(x_p_train, poly_predict, color='r')\n",
        "\n",
        "plt.title('Best Regression line')\n",
        "plt.xlabel('x')\n",
        "plt.ylabel('y')\n",
        "plt.show()\n",
        "figure = plt.figure() #plot\n",
        "ax = figure.add_subplot(111)\n",
        "ax.plot(degrees, rmses)\n",
        "ax.set_xlabel('Degree')\n",
        "ax.set_ylabel('Error')\n",
        "ax.set_yscale('log')\n",
        "print('The best fit model has degree {} with error {}'.format(best_degree, best_error))\n"
      ],
      "execution_count": null,
      "outputs": [
        {
          "output_type": "display_data",
          "data": {
            "image/png": "[encoded data removed]",
            "text/plain": [
              "<Figure size 432x288 with 1 Axes>"
            ]
          },
          "metadata": {
            "tags": [],
            "needs_background": "light"
          }
        },
        {
          "output_type": "stream",
          "text": [
            "The best fit model has degree 6 with error 2.114164021942612\n"
          ],
          "name": "stdout"
        },
        {
          "output_type": "display_data",
          "data": {
            "image/png": "[encoded data removed]",
            "text/plain": [
              "<Figure size 432x288 with 1 Axes>"
            ]
          },
          "metadata": {
            "tags": [],
            "needs_background": "light"
          }
        }
      ]
    },
    {
      "cell_type": "code",
      "metadata": {
        "id": "nOWONaIuyFhf"
      },
      "source": [],
      "execution_count": null,
      "outputs": []
    },
    {
      "cell_type": "code",
      "metadata": {
        "id": "v7xmFuNlw528"
      },
      "source": [],
      "execution_count": null,
      "outputs": []
    },
    {
      "cell_type": "code",
      "metadata": {
        "id": "bzYTePu1vdXq"
      },
      "source": [],
      "execution_count": null,
      "outputs": []
    },
    {
      "cell_type": "code",
      "metadata": {
        "id": "qUXgVT5eb8Vb"
      },
      "source": [],
      "execution_count": null,
      "outputs": []
    }
  ]
}