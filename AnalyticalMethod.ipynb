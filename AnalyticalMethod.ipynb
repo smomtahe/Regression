{
  "nbformat": 4,
  "nbformat_minor": 0,
  "metadata": {
    "colab": {
      "provenance": [],
      "include_colab_link": true
    },
    "kernelspec": {
      "name": "python3",
      "display_name": "Python 3"
    },
    "language_info": {
      "name": "python"
    }
  },
  "cells": [
    {
      "cell_type": "markdown",
      "metadata": {
        "id": "view-in-github",
        "colab_type": "text"
      },
      "source": [
        "<a href=\"https://colab.research.google.com/github/smomtahe/Regression/blob/main/AnalyticalMethod.ipynb\" target=\"_parent\"><img src=\"https://colab.research.google.com/assets/colab-badge.svg\" alt=\"Open In Colab\"/></a>"
      ]
    },
    {
      "cell_type": "code",
      "metadata": {
        "id": "5yCDcTwL_DV6"
      },
      "source": [
        "#importing the lobraries\n",
        "import numpy as np\n",
        "import pandas as pd\n",
        "import tensorflow as tf\n",
        "# for plotting\n",
        "import matplotlib\n",
        "import matplotlib.pyplot as plt\n",
        "from matplotlib import pyplot\n",
        "\n",
        "%matplotlib inline\n",
        "from io import StringIO\n",
        "import matplotlib.colors\n",
        "from mpl_toolkits.mplot3d import Axes3D\n",
        "#libraries for analytical model\n",
        "from numpy import array\n",
        "from numpy.linalg import inv\n",
        "from numpy.linalg import qr\n",
        "#libraries for selecting the best degree\n",
        "from sklearn.preprocessing import PolynomialFeatures\n",
        "from sklearn.metrics import mean_squared_error\n",
        "from sklearn.model_selection import train_test_split\n",
        "#klearn.datasets is used to generate synthetic datasets for regressoion\n",
        "import sklearn.datasets as dt\n",
        "# for generating data from a dataset\n",
        "from sklearn.neighbors import KernelDensity\n",
        "from sklearn.model_selection import GridSearchCV\n",
        "#import plotly_express as px\n",
        "#plot surface\n",
        "import os\n",
        "from mpl_toolkits import mplot3d\n",
        "import plotly.graph_objects as go\n",
        "from plotly.offline import download_plotlyjs, init_notebook_mode\n",
        "from plotly.offline import plot, iplot\n",
        "from mpl_toolkits.mplot3d import Axes3D\n",
        "\n",
        "data = pd.read_csv(\"https://raw.githubusercontent.com/smomtahe/heightweight/main/heightweight.csv\")\n"
      ],
      "execution_count": null,
      "outputs": []
    },
    {
      "cell_type": "code",
      "metadata": {
        "id": "DtwYD7Up_lu7"
      },
      "source": [
        "def generate_data():  # generated data for 20 points\n",
        "    X = 2 * np.random.rand(20, 1)\n",
        "    y = 4 + 3 * X + np.random.randn(20, 1)  # y = 4 + 3X + Gaussian noise  # theta_0 or Bias = 4 and theta_1 = 3\n",
        "    return X, y\n",
        "#generate_data()"
      ],
      "execution_count": null,
      "outputs": []
    },
    {
      "cell_type": "code",
      "metadata": {
        "colab": {
          "base_uri": "https://localhost:8080/",
          "height": 285
        },
        "id": "YixPdDs5_nim",
        "outputId": "b0369e5f-0030-4853-a592-9855105f39f7"
      },
      "source": [
        "X, y = generate_data()\n",
        "%matplotlib inline\n",
        "import matplotlib.pyplot as plt\n",
        "plt.plot(X, y, \"r.\")"
      ],
      "execution_count": null,
      "outputs": [
        {
          "output_type": "execute_result",
          "data": {
            "text/plain": [
              "[<matplotlib.lines.Line2D at 0x7f7f57fd88d0>]"
            ]
          },
          "metadata": {
            "tags": []
          },
          "execution_count": 4
        },
        {
          "output_type": "display_data",
          "data": {
            "image/png": "[encoded data removed]",
            "text/plain": [
              "<Figure size 432x288 with 1 Axes>"
            ]
          },
          "metadata": {
            "tags": [],
            "needs_background": "light"
          }
        }
      ]
    },
    {
      "cell_type": "code",
      "metadata": {
        "id": "R-Yntudu_qV2"
      },
      "source": [
        "def get_best_param(X, y):\n",
        "    X_transpose = X.T\n",
        "    best_params = inv(X_transpose.dot(X)).dot(X_transpose).dot(y)\n",
        "    # normal equation\n",
        "    # theta_best = (X.T * X)^(-1) * X.T * y\n",
        "    return best_params # returns a list\n",
        "    print(best_params )\n",
        "#get_best_param(X, y)"
      ],
      "execution_count": null,
      "outputs": []
    },
    {
      "cell_type": "code",
      "metadata": {
        "colab": {
          "base_uri": "https://localhost:8080/"
        },
        "id": "eHUvVZn3_rTh",
        "outputId": "fb45ce57-8e1a-43be-c279-aaac1cb0848e"
      },
      "source": [
        "X_b = np.c_[np.ones((20, 1)), X] # set bias term to 1 for each sample\n",
        "params = get_best_param(X_b, y)\n",
        "# Display normal equation's result\n",
        "print('Theta computed from the normal equations: \\n',params);"
      ],
      "execution_count": null,
      "outputs": [
        {
          "output_type": "stream",
          "text": [
            "Theta computed from the normal equations: \n",
            " [[3.72859248]\n",
            " [3.17425609]]\n"
          ],
          "name": "stdout"
        }
      ]
    },
    {
      "cell_type": "code",
      "metadata": {
        "colab": {
          "base_uri": "https://localhost:8080/",
          "height": 264
        },
        "id": "fxhBiDux_uTq",
        "outputId": "c03e505e-9e9b-43b0-abb6-c0d22cc300c3"
      },
      "source": [
        "# test prediction\n",
        "test_X = np.array([[0], [2]])\n",
        "test_X_b = np.c_[np.ones((2, 1)), test_X]\n",
        "prediction = test_X_b.dot(params)\n",
        "#print(prediction)\n",
        "plt.plot(test_X, prediction, \"r\")\n",
        "plt.plot(X, y, \"b.\")\n",
        "plt.show()"
      ],
      "execution_count": null,
      "outputs": [
        {
          "output_type": "display_data",
          "data": {
            "image/png": "[encoded data removed]",
            "text/plain": [
              "<Figure size 432x288 with 1 Axes>"
            ]
          },
          "metadata": {
            "tags": [],
            "needs_background": "light"
          }
        }
      ]
    },
    {
      "cell_type": "code",
      "metadata": {
        "colab": {
          "base_uri": "https://localhost:8080/"
        },
        "id": "XXq4dip7_wKB",
        "outputId": "647b16ab-8d14-4548-9489-af8cc73130d1"
      },
      "source": [
        "y_hat = X_b.dot(params)\n",
        "error=((y_hat-y).T).dot(y_hat-y)\n",
        "print(error) ## error(Theta)=error(params)\n"
      ],
      "execution_count": null,
      "outputs": [
        {
          "output_type": "stream",
          "text": [
            "[[15.25842332]]\n"
          ],
          "name": "stdout"
        }
      ]
    },
    {
      "cell_type": "code",
      "metadata": {
        "colab": {
          "base_uri": "https://localhost:8080/"
        },
        "id": "wsSJ1TY8_w3t",
        "outputId": "e5d243fe-79cf-4817-b2b1-e4b3d9c21f2a"
      },
      "source": [
        "loss=(y_hat-y)**2\n",
        "cost=np.sum(loss)/(X.shape[1])\n",
        "print(cost)  #Same as above"
      ],
      "execution_count": null,
      "outputs": [
        {
          "output_type": "stream",
          "text": [
            "15.258423324591158\n"
          ],
          "name": "stdout"
        }
      ]
    }
  ]
}